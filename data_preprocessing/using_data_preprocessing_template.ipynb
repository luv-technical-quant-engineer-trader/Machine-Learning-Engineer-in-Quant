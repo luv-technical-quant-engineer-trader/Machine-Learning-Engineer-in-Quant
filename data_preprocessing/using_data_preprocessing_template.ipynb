{
 "cells": [
  {
   "cell_type": "code",
   "execution_count": 11,
   "id": "6aafe672",
   "metadata": {},
   "outputs": [],
   "source": [
    "import sys\n",
    "import os\n",
    "\n",
    "# Add full path to the folder containing data_preprocessing.py\n",
    "sys.path.append(os.path.abspath(\"../data_preprocessing\"))\n",
    "\n",
    "from data_preprocessing import DataPreprocessor\n"
   ]
  },
  {
   "cell_type": "code",
   "execution_count": 12,
   "id": "622bd931",
   "metadata": {},
   "outputs": [],
   "source": [
    "file_path = \"./Machine-Learning-A-Z-Codes-Datasets/Part 1 - Data Preprocessing/Section 2 -------------------- Part 1 - Data Preprocessing --------------------/Python/Data.csv\""
   ]
  },
  {
   "cell_type": "code",
   "execution_count": 15,
   "id": "b1c752a7",
   "metadata": {},
   "outputs": [
    {
     "ename": "TypeError",
     "evalue": "DataPreprocessor.load_data() got an unexpected keyword argument 'file_path'",
     "output_type": "error",
     "traceback": [
      "\u001b[1;31m---------------------------------------------------------------------------\u001b[0m",
      "\u001b[1;31mTypeError\u001b[0m                                 Traceback (most recent call last)",
      "Cell \u001b[1;32mIn[15], line 6\u001b[0m\n\u001b[0;32m      3\u001b[0m dp \u001b[38;5;241m=\u001b[39m DataPreprocessor()\n\u001b[0;32m      5\u001b[0m \u001b[38;5;66;03m# Load the data\u001b[39;00m\n\u001b[1;32m----> 6\u001b[0m X, Y \u001b[38;5;241m=\u001b[39m \u001b[43mdp\u001b[49m\u001b[38;5;241;43m.\u001b[39;49m\u001b[43mload_data\u001b[49m\u001b[43m(\u001b[49m\u001b[43mfile_path\u001b[49m\u001b[38;5;241;43m=\u001b[39;49m\u001b[43mfile_path\u001b[49m\u001b[43m,\u001b[49m\u001b[43m \u001b[49m\u001b[43mdelimiter\u001b[49m\u001b[38;5;241;43m=\u001b[39;49m\u001b[38;5;124;43m'\u001b[39;49m\u001b[38;5;124;43m,\u001b[39;49m\u001b[38;5;124;43m'\u001b[39;49m\u001b[43m,\u001b[49m\u001b[43m \u001b[49m\u001b[43mtarget_column\u001b[49m\u001b[38;5;241;43m=\u001b[39;49m\u001b[38;5;241;43m-\u001b[39;49m\u001b[38;5;241;43m1\u001b[39;49m\u001b[43m)\u001b[49m\n\u001b[0;32m      8\u001b[0m \u001b[38;5;66;03m# Handle missing values\u001b[39;00m\n\u001b[0;32m      9\u001b[0m X \u001b[38;5;241m=\u001b[39m dp\u001b[38;5;241m.\u001b[39mhandle_missing_data(impute_columns\u001b[38;5;241m=\u001b[39m(\u001b[38;5;241m1\u001b[39m, \u001b[38;5;241m2\u001b[39m), strategy\u001b[38;5;241m=\u001b[39m\u001b[38;5;124m'\u001b[39m\u001b[38;5;124mmean\u001b[39m\u001b[38;5;124m'\u001b[39m)\n",
      "\u001b[1;31mTypeError\u001b[0m: DataPreprocessor.load_data() got an unexpected keyword argument 'file_path'"
     ]
    }
   ],
   "source": [
    "from data_preprocessing import DataPreprocessor\n",
    "\n",
    "dp = DataPreprocessor()\n",
    "\n",
    "# Load the data\n",
    "X, Y = dp.load_data(file_path=file_path, delimiter=',', target_column=-1)\n",
    "\n",
    "# Handle missing values\n",
    "X = dp.handle_missing_data(impute_columns=(1, 2), strategy='mean')\n",
    "\n",
    "# Encode categorical features\n",
    "X = dp.encode_features(onehot_column=0)\n",
    "\n",
    "# Encode the target\n",
    "Y = dp.encode_target(apply_encoding=True)\n",
    "\n",
    "# Split the data\n",
    "X_train, X_test, Y_train, Y_test = dp.split_data(test_size=0.2, random_state=1)\n",
    "\n",
    "# Scale features\n",
    "X_train, X_test = dp.scale_features(scale_columns_from=3)\n"
   ]
  },
  {
   "cell_type": "code",
   "execution_count": null,
   "id": "4411d765",
   "metadata": {},
   "outputs": [
    {
     "data": {
      "text/plain": [
       "array([[0.0, 0.0, 1.0, -0.19159184384578545, -1.0781259408412425],\n",
       "       [0.0, 1.0, 0.0, -0.014117293757057777, -0.07013167641635372],\n",
       "       [1.0, 0.0, 0.0, 0.566708506533324, 0.633562432710455],\n",
       "       [0.0, 0.0, 1.0, -0.30453019390224867, -0.30786617274297867],\n",
       "       [0.0, 0.0, 1.0, -1.9018011447007988, -1.420463615551582],\n",
       "       [1.0, 0.0, 0.0, 1.1475343068237058, 1.232653363453549],\n",
       "       [0.0, 1.0, 0.0, 1.4379472069688968, 1.5749910381638885],\n",
       "       [1.0, 0.0, 0.0, -0.7401495441200351, -0.5646194287757332]],\n",
       "      dtype=object)"
      ]
     },
     "execution_count": 8,
     "metadata": {},
     "output_type": "execute_result"
    }
   ],
   "source": [
    "X_train"
   ]
  },
  {
   "cell_type": "code",
   "execution_count": null,
   "id": "463079bd",
   "metadata": {},
   "outputs": [
    {
     "data": {
      "text/plain": [
       "array([0, 1, 0, 0, 1, 1, 0, 1])"
      ]
     },
     "execution_count": 9,
     "metadata": {},
     "output_type": "execute_result"
    }
   ],
   "source": [
    "Y_train"
   ]
  }
 ],
 "metadata": {
  "kernelspec": {
   "display_name": "Python 3",
   "language": "python",
   "name": "python3"
  },
  "language_info": {
   "codemirror_mode": {
    "name": "ipython",
    "version": 3
   },
   "file_extension": ".py",
   "mimetype": "text/x-python",
   "name": "python",
   "nbconvert_exporter": "python",
   "pygments_lexer": "ipython3",
   "version": "3.13.0"
  }
 },
 "nbformat": 4,
 "nbformat_minor": 5
}
