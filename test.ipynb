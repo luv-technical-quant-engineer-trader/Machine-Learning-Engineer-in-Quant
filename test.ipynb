{
 "cells": [
  {
   "cell_type": "code",
   "execution_count": 1,
   "id": "c357e727",
   "metadata": {},
   "outputs": [
    {
     "data": {
      "text/plain": [
       "['red', 'blue', 'green']"
      ]
     },
     "execution_count": 1,
     "metadata": {},
     "output_type": "execute_result"
    }
   ],
   "source": [
    "prim_colors = [\"red\", \"blue\", \"yellow\"]\n",
    "[x if x !=\"yellow\" else \"green\" for x in prim_colors]"
   ]
  },
  {
   "cell_type": "code",
   "execution_count": 2,
   "id": "c4fc4ea3",
   "metadata": {},
   "outputs": [
    {
     "data": {
      "text/plain": [
       "80.0"
      ]
     },
     "execution_count": 2,
     "metadata": {},
     "output_type": "execute_result"
    }
   ],
   "source": [
    "12+2*24/3*4+4"
   ]
  },
  {
   "cell_type": "code",
   "execution_count": 3,
   "id": "00c38d0b",
   "metadata": {},
   "outputs": [
    {
     "data": {
      "text/plain": [
       "16"
      ]
     },
     "execution_count": 3,
     "metadata": {},
     "output_type": "execute_result"
    }
   ],
   "source": [
    "def func(x,y):\n",
    "    if (x==0):\n",
    "        return y\n",
    "    else:\n",
    "        return func(x+1,y-x)\n",
    "    \n",
    "func(-3,10)"
   ]
  },
  {
   "cell_type": "code",
   "execution_count": null,
   "id": "cd7a5ff3",
   "metadata": {},
   "outputs": [],
   "source": [
    "x = [1,[2]]\n",
    "y = list(x)\n",
    "x[0] = -1\n",
    "x[1][0] = -1\n",
    "\n",
    "y"
   ]
  }
 ],
 "metadata": {
  "kernelspec": {
   "display_name": "base",
   "language": "python",
   "name": "python3"
  },
  "language_info": {
   "codemirror_mode": {
    "name": "ipython",
    "version": 3
   },
   "file_extension": ".py",
   "mimetype": "text/x-python",
   "name": "python",
   "nbconvert_exporter": "python",
   "pygments_lexer": "ipython3",
   "version": "3.12.7"
  }
 },
 "nbformat": 4,
 "nbformat_minor": 5
}
